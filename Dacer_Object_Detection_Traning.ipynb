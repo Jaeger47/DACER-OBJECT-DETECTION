{
  "cells": [
    {
      "cell_type": "markdown",
      "metadata": {
        "id": "view-in-github",
        "colab_type": "text"
      },
      "source": [
        "<a href=\"https://colab.research.google.com/github/Jaeger47/DACER-OBJECT-DETECTION/blob/main/Dacer_Object_Detection_Traning.ipynb\" target=\"_parent\"><img src=\"https://colab.research.google.com/assets/colab-badge.svg\" alt=\"Open In Colab\"/></a>"
      ]
    },
    {
      "cell_type": "markdown",
      "metadata": {
        "id": "PpJEzDG6DK2Q"
      },
      "source": [
        "# Train a custom object detection model with TensorFlow Lite Model Maker\n",
        "\n",
        "In this colab notebook, you'll learn how to use the [TensorFlow Lite Model Maker](https://www.tensorflow.org/lite/guide/model_maker) to train a custom object detection model to detect Android figurines and how to put the model on a Raspberry Pi.\n",
        "\n",
        "The Model Maker library uses *transfer learning* to simplify the process of training a TensorFlow Lite model using a custom dataset. Retraining a TensorFlow Lite model with your own custom dataset reduces the amount of training data required and will shorten the training time.\n"
      ]
    },
    {
      "cell_type": "markdown",
      "metadata": {
        "id": "BRYjtwRZGBOI"
      },
      "source": [
        "## Preparation\n",
        "\n",
        "### Install the required packages\n",
        "Start by installing the required packages, including the Model Maker package from the [GitHub repo](https://github.com/tensorflow/examples/tree/master/tensorflow_examples/lite/model_maker) and the pycocotools library you'll use for evaluation."
      ]
    },
    {
      "cell_type": "code",
      "source": [
        "#required due to tensorflow changes and avoid DNN errors\n",
        "!pip install tensorflow==2.8\n",
        "!apt install --allow-change-held-packages libcudnn8=8.1.0.77-1+cuda11.2"
      ],
      "metadata": {
        "colab": {
          "base_uri": "https://localhost:8080/"
        },
        "id": "nsK5F9b9lNB-",
        "outputId": "eda80edb-d882-468c-9c63-682f621a1f20"
      },
      "execution_count": 1,
      "outputs": [
        {
          "output_type": "stream",
          "name": "stdout",
          "text": [
            "Looking in indexes: https://pypi.org/simple, https://us-python.pkg.dev/colab-wheels/public/simple/\n",
            "Collecting tensorflow==2.8\n",
            "  Downloading https://us-python.pkg.dev/colab-wheels/public/tensorflow/tensorflow-2.8.0%2Bzzzcolab20220506162203-cp37-cp37m-linux_x86_64.whl\n",
            "\u001b[K     / 406.6 MB 125.6 MB/s\n",
            "\u001b[31mERROR: Operation cancelled by user\u001b[0m\n",
            "Reading package lists... Done\n",
            "Building dependency tree       \n",
            "Reading state information... Done\n",
            "The following package was automatically installed and is no longer required:\n",
            "  libnvidia-common-460\n",
            "Use 'apt autoremove' to remove it.\n",
            "The following packages will be REMOVED:\n",
            "  libcudnn8-dev\n",
            "The following held packages will be changed:\n",
            "  libcudnn8\n",
            "The following packages will be upgraded:\n",
            "  libcudnn8\n",
            "1 upgraded, 0 newly installed, 1 to remove and 43 not upgraded.\n",
            "Need to get 430 MB of archives.\n",
            "After this operation, 3,139 MB disk space will be freed.\n",
            "Get:1 https://developer.download.nvidia.com/compute/cuda/repos/ubuntu1804/x86_64  libcudnn8 8.1.0.77-1+cuda11.2 [430 MB]\n",
            "Fetched 430 MB in 7s (63.2 MB/s)\n",
            "(Reading database ... 155632 files and directories currently installed.)\n",
            "Removing libcudnn8-dev (8.0.5.39-1+cuda11.1) ...\n",
            "(Reading database ... 155610 files and directories currently installed.)\n",
            "Preparing to unpack .../libcudnn8_8.1.0.77-1+cuda11.2_amd64.deb ...\n",
            "Unpacking libcudnn8 (8.1.0.77-1+cuda11.2) over (8.0.5.39-1+cuda11.1) ...\n",
            "Setting up libcudnn8 (8.1.0.77-1+cuda11.2) ...\n"
          ]
        }
      ]
    },
    {
      "cell_type": "code",
      "execution_count": null,
      "metadata": {
        "colab": {
          "base_uri": "https://localhost:8080/"
        },
        "id": "35BJmtVpAP_n",
        "outputId": "223c0117-4ffc-42f4-abed-a91556a2ee2e"
      },
      "outputs": [
        {
          "name": "stdout",
          "output_type": "stream",
          "text": [
            "\u001b[K     |████████████████████████████████| 621 kB 5.2 MB/s \n",
            "\u001b[K     |████████████████████████████████| 1.1 MB 30.2 MB/s \n",
            "\u001b[K     |████████████████████████████████| 840 kB 19.7 MB/s \n",
            "\u001b[K     |████████████████████████████████| 87 kB 2.9 MB/s \n",
            "\u001b[K     |████████████████████████████████| 3.4 MB 34.3 MB/s \n",
            "\u001b[K     |████████████████████████████████| 1.2 MB 39.1 MB/s \n",
            "\u001b[K     |████████████████████████████████| 596 kB 45.1 MB/s \n",
            "\u001b[K     |████████████████████████████████| 6.3 MB 27.4 MB/s \n",
            "\u001b[K     |████████████████████████████████| 213 kB 44.1 MB/s \n",
            "\u001b[K     |████████████████████████████████| 1.1 MB 37.4 MB/s \n",
            "\u001b[K     |████████████████████████████████| 120 kB 54.9 MB/s \n",
            "\u001b[K     |████████████████████████████████| 25.3 MB 88 kB/s \n",
            "\u001b[K     |████████████████████████████████| 352 kB 49.0 MB/s \n",
            "\u001b[K     |████████████████████████████████| 1.1 MB 36.8 MB/s \n",
            "\u001b[K     |████████████████████████████████| 47.6 MB 37 kB/s \n",
            "\u001b[K     |████████████████████████████████| 99 kB 7.0 MB/s \n",
            "\u001b[K     |████████████████████████████████| 208 kB 53.2 MB/s \n",
            "\u001b[?25h  Building wheel for fire (setup.py) ... \u001b[?25l\u001b[?25hdone\n",
            "  Building wheel for py-cpuinfo (setup.py) ... \u001b[?25l\u001b[?25hdone\n"
          ]
        }
      ],
      "source": [
        "!pip install -q tflite-model-maker\n",
        "!pip install -q tflite-support"
      ]
    },
    {
      "cell_type": "markdown",
      "metadata": {
        "id": "prQ86DdtD317"
      },
      "source": [
        "Import the required packages."
      ]
    },
    {
      "cell_type": "code",
      "execution_count": null,
      "metadata": {
        "id": "l4QQTXHHATDS"
      },
      "outputs": [],
      "source": [
        "import numpy as np\n",
        "import os\n",
        "\n",
        "from tflite_model_maker.config import ExportFormat, QuantizationConfig\n",
        "from tflite_model_maker import model_spec\n",
        "from tflite_model_maker import object_detector\n",
        "\n",
        "from tflite_support import metadata\n",
        "\n",
        "import tensorflow as tf\n",
        "assert tf.__version__.startswith('2')\n",
        "\n",
        "tf.get_logger().setLevel('ERROR')\n",
        "from absl import logging\n",
        "logging.set_verbosity(logging.ERROR)"
      ]
    },
    {
      "cell_type": "markdown",
      "metadata": {
        "id": "3g6aQvXsD78P"
      },
      "source": [
        "### Prepare the dataset\n",
        "\n",
        "**Import your labeled dataset**\n",
        "\n",
        "you can use LabelImg to label your images: https://github.com/tzutalin/labelImg\n",
        "\n",
        "**Recommend Data set for Train and Validate**\n",
        "\n",
        "\n",
        "*   60% Train / 40% Validate\n",
        "*   70% Train / 30% Validate\n",
        "\n",
        "How to label: https://towardsdatascience.com/how-to-label-images-for-object-detection-step-by-step-7ee317f98583"
      ]
    },
    {
      "cell_type": "markdown",
      "metadata": {
        "id": "Yxh3KInCFeB-"
      },
      "source": [
        "## Train the object detection model\n",
        "\n",
        "### Step 1: Load the dataset\n",
        "\n",
        "* Images in `train_data` is used to train the custom object detection model.\n",
        "* Images in `val_data` is used to check if the model can generalize well to new images that it hasn't seen before."
      ]
    },
    {
      "cell_type": "code",
      "execution_count": null,
      "metadata": {
        "id": "WiAahdsQAdT7"
      },
      "outputs": [],
      "source": [
        "train_data = object_detector.DataLoader.from_pascal_voc(\n",
        "    'your_dir/train',\n",
        "    'your_dir/train',\n",
        "    ['label_name_1', 'label_name_2']\n",
        ")\n",
        "\n",
        "val_data = object_detector.DataLoader.from_pascal_voc(\n",
        "    'your_dir/validate',\n",
        "    'your_dir/validate',\n",
        "    ['label_name_1', 'label_name_2']\n",
        ")"
      ]
    },
    {
      "cell_type": "markdown",
      "metadata": {
        "id": "UNRhB8N7GHXj"
      },
      "source": [
        "### Step 2: Select a model architecture\n",
        "\n",
        "EfficientDet-Lite[0-4] are a family of mobile/IoT-friendly object detection models derived from the [EfficientDet](https://arxiv.org/abs/1911.09070) architecture.\n",
        "\n",
        "Here is the performance of each EfficientDet-Lite models compared to each others.\n",
        "\n",
        "| Model architecture | Size(MB)* | Latency(ms)** | Average Precision*** |\n",
        "|--------------------|-----------|---------------|----------------------|\n",
        "| EfficientDet-Lite0 | 4.4       | 146           | 25.69%               |\n",
        "| EfficientDet-Lite1 | 5.8       | 259           | 30.55%               |\n",
        "| EfficientDet-Lite2 | 7.2       | 396           | 33.97%               |\n",
        "| EfficientDet-Lite3 | 11.4      | 716           | 37.70%               |\n",
        "| EfficientDet-Lite4 | 19.9      | 1886          | 41.96%               |\n",
        "\n",
        "<i> * Size of the integer quantized models. <br/>\n",
        "** Latency measured on Raspberry Pi 4 using 4 threads on CPU. <br/>\n",
        "*** Average Precision is the mAP (mean Average Precision) on the COCO 2017 validation dataset.\n",
        "</i>\n",
        "\n",
        "In this notebook, we use EfficientDet-Lite0 to train our model. You can choose other model architectures depending on whether speed or accuracy is more important to you."
      ]
    },
    {
      "cell_type": "code",
      "execution_count": null,
      "metadata": {
        "id": "GZOojrDHAY1J"
      },
      "outputs": [],
      "source": [
        "spec = model_spec.get('efficientdet_lite0')"
      ]
    },
    {
      "cell_type": "markdown",
      "metadata": {
        "id": "5aeDU4mIM4ft"
      },
      "source": [
        "### Step 3: Train the TensorFlow model with the training data.\n",
        "\n",
        "* Set `epochs = 20`, which means it will go through the training dataset 20 times. You can look at the validation accuracy during training and stop when you see validation loss (`val_loss`) stop decreasing to avoid overfitting.\n",
        "* Set `batch_size = 4` here so you will see that it takes 15 steps to go through the 62 images in the training dataset.\n",
        "* Set `train_whole_model=True` to fine-tune the whole model instead of just training the head layer to improve accuracy. The trade-off is that it may take longer to train the model."
      ]
    },
    {
      "cell_type": "code",
      "execution_count": null,
      "metadata": {
        "colab": {
          "base_uri": "https://localhost:8080/"
        },
        "id": "_MClfpsJAfda",
        "outputId": "cbfc9772-a3c7-4f60-a7af-a6032de27d2f"
      },
      "outputs": [
        {
          "name": "stdout",
          "output_type": "stream",
          "text": [
            "Epoch 1/20\n",
            "15/15 [==============================] - 77s 914ms/step - det_loss: 1.7041 - cls_loss: 1.1081 - box_loss: 0.0119 - reg_l2_loss: 0.0630 - loss: 1.7671 - learning_rate: 0.0065 - gradient_norm: 1.8855 - val_det_loss: 1.5227 - val_cls_loss: 1.0386 - val_box_loss: 0.0097 - val_reg_l2_loss: 0.0630 - val_loss: 1.5857\n",
            "Epoch 2/20\n",
            "15/15 [==============================] - 8s 580ms/step - det_loss: 1.3844 - cls_loss: 0.9285 - box_loss: 0.0091 - reg_l2_loss: 0.0630 - loss: 1.4473 - learning_rate: 0.0049 - gradient_norm: 2.1512 - val_det_loss: 1.1801 - val_cls_loss: 0.7961 - val_box_loss: 0.0077 - val_reg_l2_loss: 0.0630 - val_loss: 1.2430\n",
            "Epoch 3/20\n",
            "15/15 [==============================] - 8s 580ms/step - det_loss: 1.1144 - cls_loss: 0.7169 - box_loss: 0.0080 - reg_l2_loss: 0.0630 - loss: 1.1773 - learning_rate: 0.0048 - gradient_norm: 2.6388 - val_det_loss: 0.9293 - val_cls_loss: 0.6015 - val_box_loss: 0.0066 - val_reg_l2_loss: 0.0630 - val_loss: 0.9923\n",
            "Epoch 4/20\n",
            "15/15 [==============================] - 8s 586ms/step - det_loss: 0.8720 - cls_loss: 0.5457 - box_loss: 0.0065 - reg_l2_loss: 0.0630 - loss: 0.9349 - learning_rate: 0.0046 - gradient_norm: 2.5598 - val_det_loss: 0.7950 - val_cls_loss: 0.5022 - val_box_loss: 0.0059 - val_reg_l2_loss: 0.0630 - val_loss: 0.8579\n",
            "Epoch 5/20\n",
            "15/15 [==============================] - 8s 580ms/step - det_loss: 0.7932 - cls_loss: 0.4979 - box_loss: 0.0059 - reg_l2_loss: 0.0630 - loss: 0.8562 - learning_rate: 0.0043 - gradient_norm: 2.7843 - val_det_loss: 0.6445 - val_cls_loss: 0.4077 - val_box_loss: 0.0047 - val_reg_l2_loss: 0.0630 - val_loss: 0.7075\n",
            "Epoch 6/20\n",
            "15/15 [==============================] - 9s 589ms/step - det_loss: 0.7229 - cls_loss: 0.4661 - box_loss: 0.0051 - reg_l2_loss: 0.0630 - loss: 0.7859 - learning_rate: 0.0040 - gradient_norm: 2.9981 - val_det_loss: 0.6012 - val_cls_loss: 0.3832 - val_box_loss: 0.0044 - val_reg_l2_loss: 0.0630 - val_loss: 0.6642\n",
            "Epoch 7/20\n",
            "15/15 [==============================] - 8s 571ms/step - det_loss: 0.6082 - cls_loss: 0.3964 - box_loss: 0.0042 - reg_l2_loss: 0.0630 - loss: 0.6712 - learning_rate: 0.0037 - gradient_norm: 2.6000 - val_det_loss: 0.5574 - val_cls_loss: 0.3804 - val_box_loss: 0.0035 - val_reg_l2_loss: 0.0630 - val_loss: 0.6204\n",
            "Epoch 8/20\n",
            "15/15 [==============================] - 8s 573ms/step - det_loss: 0.5591 - cls_loss: 0.3717 - box_loss: 0.0037 - reg_l2_loss: 0.0630 - loss: 0.6221 - learning_rate: 0.0033 - gradient_norm: 2.5586 - val_det_loss: 0.5379 - val_cls_loss: 0.3767 - val_box_loss: 0.0032 - val_reg_l2_loss: 0.0630 - val_loss: 0.6009\n",
            "Epoch 9/20\n",
            "15/15 [==============================] - 8s 582ms/step - det_loss: 0.5105 - cls_loss: 0.3343 - box_loss: 0.0035 - reg_l2_loss: 0.0630 - loss: 0.5735 - learning_rate: 0.0029 - gradient_norm: 2.2153 - val_det_loss: 0.5036 - val_cls_loss: 0.3368 - val_box_loss: 0.0033 - val_reg_l2_loss: 0.0630 - val_loss: 0.5666\n",
            "Epoch 10/20\n",
            "15/15 [==============================] - 9s 589ms/step - det_loss: 0.4754 - cls_loss: 0.3200 - box_loss: 0.0031 - reg_l2_loss: 0.0630 - loss: 0.5384 - learning_rate: 0.0025 - gradient_norm: 2.6243 - val_det_loss: 0.4002 - val_cls_loss: 0.2622 - val_box_loss: 0.0028 - val_reg_l2_loss: 0.0630 - val_loss: 0.4632\n",
            "Epoch 11/20\n",
            "15/15 [==============================] - 8s 576ms/step - det_loss: 0.5226 - cls_loss: 0.3449 - box_loss: 0.0036 - reg_l2_loss: 0.0630 - loss: 0.5856 - learning_rate: 0.0021 - gradient_norm: 2.9378 - val_det_loss: 0.3862 - val_cls_loss: 0.2594 - val_box_loss: 0.0025 - val_reg_l2_loss: 0.0630 - val_loss: 0.4492\n",
            "Epoch 12/20\n",
            "15/15 [==============================] - 8s 569ms/step - det_loss: 0.4451 - cls_loss: 0.3009 - box_loss: 0.0029 - reg_l2_loss: 0.0630 - loss: 0.5081 - learning_rate: 0.0017 - gradient_norm: 2.0891 - val_det_loss: 0.3532 - val_cls_loss: 0.2390 - val_box_loss: 0.0023 - val_reg_l2_loss: 0.0630 - val_loss: 0.4162\n",
            "Epoch 13/20\n",
            "15/15 [==============================] - 8s 578ms/step - det_loss: 0.4326 - cls_loss: 0.2953 - box_loss: 0.0027 - reg_l2_loss: 0.0630 - loss: 0.4956 - learning_rate: 0.0013 - gradient_norm: 1.9802 - val_det_loss: 0.3337 - val_cls_loss: 0.2258 - val_box_loss: 0.0022 - val_reg_l2_loss: 0.0630 - val_loss: 0.3967\n",
            "Epoch 14/20\n",
            "15/15 [==============================] - 8s 570ms/step - det_loss: 0.4232 - cls_loss: 0.2844 - box_loss: 0.0028 - reg_l2_loss: 0.0630 - loss: 0.4862 - learning_rate: 9.6772e-04 - gradient_norm: 2.1418 - val_det_loss: 0.3211 - val_cls_loss: 0.2202 - val_box_loss: 0.0020 - val_reg_l2_loss: 0.0630 - val_loss: 0.3841\n",
            "Epoch 15/20\n",
            "15/15 [==============================] - 8s 574ms/step - det_loss: 0.4291 - cls_loss: 0.2820 - box_loss: 0.0029 - reg_l2_loss: 0.0630 - loss: 0.4921 - learning_rate: 6.6413e-04 - gradient_norm: 1.9686 - val_det_loss: 0.3319 - val_cls_loss: 0.2177 - val_box_loss: 0.0023 - val_reg_l2_loss: 0.0630 - val_loss: 0.3949\n",
            "Epoch 16/20\n",
            "15/15 [==============================] - 8s 576ms/step - det_loss: 0.3853 - cls_loss: 0.2636 - box_loss: 0.0024 - reg_l2_loss: 0.0630 - loss: 0.4483 - learning_rate: 4.1061e-04 - gradient_norm: 1.9739 - val_det_loss: 0.3191 - val_cls_loss: 0.2152 - val_box_loss: 0.0021 - val_reg_l2_loss: 0.0630 - val_loss: 0.3821\n",
            "Epoch 17/20\n",
            "15/15 [==============================] - 8s 580ms/step - det_loss: 0.4040 - cls_loss: 0.2830 - box_loss: 0.0024 - reg_l2_loss: 0.0630 - loss: 0.4670 - learning_rate: 2.1409e-04 - gradient_norm: 1.8626 - val_det_loss: 0.3130 - val_cls_loss: 0.2137 - val_box_loss: 0.0020 - val_reg_l2_loss: 0.0630 - val_loss: 0.3760\n",
            "Epoch 18/20\n",
            "15/15 [==============================] - 8s 565ms/step - det_loss: 0.3855 - cls_loss: 0.2719 - box_loss: 0.0023 - reg_l2_loss: 0.0630 - loss: 0.4485 - learning_rate: 7.9920e-05 - gradient_norm: 2.1539 - val_det_loss: 0.3117 - val_cls_loss: 0.2132 - val_box_loss: 0.0020 - val_reg_l2_loss: 0.0630 - val_loss: 0.3747\n",
            "Epoch 19/20\n",
            "15/15 [==============================] - 8s 583ms/step - det_loss: 0.3870 - cls_loss: 0.2621 - box_loss: 0.0025 - reg_l2_loss: 0.0630 - loss: 0.4500 - learning_rate: 1.1764e-05 - gradient_norm: 1.8332 - val_det_loss: 0.3088 - val_cls_loss: 0.2120 - val_box_loss: 0.0019 - val_reg_l2_loss: 0.0630 - val_loss: 0.3718\n",
            "Epoch 20/20\n",
            "15/15 [==============================] - 8s 577ms/step - det_loss: 0.3920 - cls_loss: 0.2737 - box_loss: 0.0024 - reg_l2_loss: 0.0630 - loss: 0.4550 - learning_rate: 1.1480e-05 - gradient_norm: 1.8807 - val_det_loss: 0.3081 - val_cls_loss: 0.2122 - val_box_loss: 0.0019 - val_reg_l2_loss: 0.0630 - val_loss: 0.3711\n"
          ]
        }
      ],
      "source": [
        "model = object_detector.create(train_data, model_spec=spec, batch_size=4, train_whole_model=True, epochs=20, validation_data=val_data)"
      ]
    },
    {
      "cell_type": "markdown",
      "metadata": {
        "id": "KB4hKeerMmh4"
      },
      "source": [
        "### Step 4. Evaluate the model with the validation data.\n",
        "\n",
        "After training the object detection model using the images in the training dataset, use the 10 images in the validation dataset to evaluate how the model performs against new data it has never seen before.\n",
        "\n",
        "As the default batch size is 64, it will take 1 step to go through the 10 images in the validation dataset.\n",
        "\n",
        "The evaluation metrics are same as [COCO](https://cocodataset.org/#detection-eval)."
      ]
    },
    {
      "cell_type": "code",
      "execution_count": null,
      "metadata": {
        "colab": {
          "base_uri": "https://localhost:8080/"
        },
        "id": "OUqEpcYwAg8L",
        "outputId": "b359dc94-4906-4b5b-e022-77030b7a122f"
      },
      "outputs": [
        {
          "name": "stdout",
          "output_type": "stream",
          "text": [
            "\r1/1 [==============================] - 9s 9s/step\n",
            "\n"
          ]
        },
        {
          "data": {
            "text/plain": [
              "{'AP': 0.73107415,\n",
              " 'AP50': 1.0,\n",
              " 'AP75': 0.9163916,\n",
              " 'AP_/android': 0.7438944,\n",
              " 'AP_/pig_android': 0.71825397,\n",
              " 'APl': 0.73107415,\n",
              " 'APm': -1.0,\n",
              " 'APs': -1.0,\n",
              " 'ARl': 0.7902778,\n",
              " 'ARm': -1.0,\n",
              " 'ARmax1': 0.7659722,\n",
              " 'ARmax10': 0.7902778,\n",
              " 'ARmax100': 0.7902778,\n",
              " 'ARs': -1.0}"
            ]
          },
          "execution_count": 8,
          "metadata": {},
          "output_type": "execute_result"
        }
      ],
      "source": [
        "model.evaluate(val_data)"
      ]
    },
    {
      "cell_type": "markdown",
      "metadata": {
        "id": "NARVYk9rGLIl"
      },
      "source": [
        "### Step 5: Export as a TensorFlow Lite model.\n",
        "\n",
        "Export the trained object detection model to the TensorFlow Lite format by specifying which folder you want to export the quantized model to. The default post-training quantization technique is [full integer quantization](https://www.tensorflow.org/lite/performance/post_training_integer_quant). This allows the TensorFlow Lite model to be smaller, run faster on Raspberry Pi CPU and also compatible with the Google Coral EdgeTPU."
      ]
    },
    {
      "cell_type": "code",
      "execution_count": null,
      "metadata": {
        "id": "_u3eFxoBAiqE"
      },
      "outputs": [],
      "source": [
        "model.export(export_dir='.', tflite_filename='android.tflite')"
      ]
    },
    {
      "cell_type": "markdown",
      "metadata": {
        "id": "JZcBmEigOCO3"
      },
      "source": [
        "### Step 6:  Evaluate the TensorFlow Lite model.\n",
        "\n",
        "Several factors can affect the model accuracy when exporting to TFLite:\n",
        "* [Quantization](https://www.tensorflow.org/lite/performance/model_optimization) helps shrinking the model size by 4 times at the expense of some accuracy drop.\n",
        "* The original TensorFlow model uses per-class [non-max supression (NMS)](https://www.coursera.org/lecture/convolutional-neural-networks/non-max-suppression-dvrjH) for post-processing, while the TFLite model uses global NMS that's much faster but less accurate.\n",
        "Keras outputs maximum 100 detections while tflite outputs maximum 25 detections.\n",
        "\n",
        "Therefore you'll have to evaluate the exported TFLite model and compare its accuracy with the original TensorFlow model."
      ]
    },
    {
      "cell_type": "code",
      "execution_count": null,
      "metadata": {
        "colab": {
          "base_uri": "https://localhost:8080/"
        },
        "id": "Jbl8z9_wBPlr",
        "outputId": "a0893077-28d8-4362-89f2-d5197222ac79"
      },
      "outputs": [
        {
          "name": "stdout",
          "output_type": "stream",
          "text": [
            "10/10 [==============================] - 30s 3s/step\n",
            "\n"
          ]
        },
        {
          "data": {
            "text/plain": [
              "{'AP': 0.7220042,\n",
              " 'AP50': 1.0,\n",
              " 'AP75': 1.0,\n",
              " 'AP_/android': 0.715818,\n",
              " 'AP_/pig_android': 0.7281903,\n",
              " 'APl': 0.7220042,\n",
              " 'APm': -1.0,\n",
              " 'APs': -1.0,\n",
              " 'ARl': 0.7652778,\n",
              " 'ARm': -1.0,\n",
              " 'ARmax1': 0.7652778,\n",
              " 'ARmax10': 0.7652778,\n",
              " 'ARmax100': 0.7652778,\n",
              " 'ARs': -1.0}"
            ]
          },
          "execution_count": 10,
          "metadata": {},
          "output_type": "execute_result"
        }
      ],
      "source": [
        "model.evaluate_tflite('android.tflite', val_data)"
      ]
    },
    {
      "cell_type": "code",
      "execution_count": null,
      "metadata": {
        "colab": {
          "base_uri": "https://localhost:8080/",
          "height": 17
        },
        "id": "v7zgUkdOUUnD",
        "outputId": "03467f8e-1a52-41c1-d596-93fa75ce1fb6"
      },
      "outputs": [
        {
          "data": {
            "application/javascript": "\n    async function download(id, filename, size) {\n      if (!google.colab.kernel.accessAllowed) {\n        return;\n      }\n      const div = document.createElement('div');\n      const label = document.createElement('label');\n      label.textContent = `Downloading \"${filename}\": `;\n      div.appendChild(label);\n      const progress = document.createElement('progress');\n      progress.max = size;\n      div.appendChild(progress);\n      document.body.appendChild(div);\n\n      const buffers = [];\n      let downloaded = 0;\n\n      const channel = await google.colab.kernel.comms.open(id);\n      // Send a message to notify the kernel that we're ready.\n      channel.send({})\n\n      for await (const message of channel.messages) {\n        // Send a message to notify the kernel that we're ready.\n        channel.send({})\n        if (message.buffers) {\n          for (const buffer of message.buffers) {\n            buffers.push(buffer);\n            downloaded += buffer.byteLength;\n            progress.value = downloaded;\n          }\n        }\n      }\n      const blob = new Blob(buffers, {type: 'application/binary'});\n      const a = document.createElement('a');\n      a.href = window.URL.createObjectURL(blob);\n      a.download = filename;\n      div.appendChild(a);\n      a.click();\n      div.remove();\n    }\n  ",
            "text/plain": [
              "<IPython.core.display.Javascript object>"
            ]
          },
          "metadata": {},
          "output_type": "display_data"
        },
        {
          "data": {
            "application/javascript": "download(\"download_88525e82-bbae-414d-87ff-ec2b93dde3b2\", \"android.tflite\", 4427830)",
            "text/plain": [
              "<IPython.core.display.Javascript object>"
            ]
          },
          "metadata": {},
          "output_type": "display_data"
        }
      ],
      "source": [
        "# Download the TFLite model to your local computer.\n",
        "from google.colab import files\n",
        "files.download('android.tflite')"
      ]
    }
  ],
  "metadata": {
    "accelerator": "GPU",
    "colab": {
      "collapsed_sections": [],
      "name": "Dacer Object Detection Traning",
      "provenance": [],
      "include_colab_link": true
    },
    "kernelspec": {
      "display_name": "Python 3",
      "name": "python3"
    },
    "language_info": {
      "name": "python"
    }
  },
  "nbformat": 4,
  "nbformat_minor": 0
}